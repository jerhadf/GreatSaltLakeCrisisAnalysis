{
 "cells": [
  {
   "cell_type": "code",
   "execution_count": null,
   "metadata": {},
   "outputs": [],
   "source": [
    "# ################################################# DATA VISUALIZATION ################################################# \n",
    "import pandas as pd\n",
    "import seaborn as sns\n",
    "import matplotlib.pyplot as plt\n",
    "from wordcloud import WordCloud\n",
    "from textblob import TextBlob\n",
    "\n",
    "# read in the dataframe from the csv file - data/cleaned_responses.csv\n",
    "df = pd.read_csv(\"data/cleaned_responses.csv\")\n",
    "\n",
    "# Combine all of the cleaned responses into a single string\n",
    "all_content = \" \".join(df[\"content\"])\n",
    "\n",
    "# save all the content to a file\n",
    "with open(\"data/all_web_content.txt\", \"w\") as file: file.write(all_content)"
   ]
  },
  {
   "attachments": {},
   "cell_type": "markdown",
   "metadata": {},
   "source": [
    "## Word Mapping"
   ]
  },
  {
   "cell_type": "code",
   "execution_count": null,
   "metadata": {},
   "outputs": [],
   "source": [
    "\n",
    "# create a word map from just the keywords \n",
    "text = \" \".join(df[\"keywords\"]) \n",
    "wordcloud = WordCloud().generate(text)\n",
    "\n",
    "plt.imshow(wordcloud, interpolation='bilinear')\n",
    "plt.axis(\"off\")\n",
    "plt.show()\n",
    "\n",
    "# Create a word map from all of the content \n",
    "text = \" \".join(df[\"keywords\"])\n",
    "wordcloud = WordCloud().generate(text)\n",
    "\n",
    "plt.imshow(wordcloud, interpolation='bilinear')\n",
    "plt.axis(\"off\")\n",
    "plt.show()"
   ]
  },
  {
   "attachments": {},
   "cell_type": "markdown",
   "metadata": {},
   "source": [
    "# Word Plotting"
   ]
  },
  {
   "cell_type": "code",
   "execution_count": null,
   "metadata": {},
   "outputs": [],
   "source": [
    "# count the frequency of each keyword in the dataframe\n",
    "keyword_freq = df['keywords'].explode().value_counts()\n",
    "\n",
    "# Plot the top 20 keywords as a bar chart \n",
    "plt.figure(figsize=(10, 6)) \n",
    "sns.barplot(x=keyword_freq[:20], y=keyword_freq[:20].index) \n",
    "plt.xlabel('Frequency') \n",
    "plt.ylabel('Keyword') \n",
    "plt.title('Most Frequent Keywords in Articles') \n",
    "plt.show()\n"
   ]
  },
  {
   "attachments": {},
   "cell_type": "markdown",
   "metadata": {},
   "source": [
    "## Sentiment Analysis"
   ]
  },
  {
   "cell_type": "code",
   "execution_count": null,
   "metadata": {},
   "outputs": [],
   "source": [
    "# A sentiment analysis of the content of each article\n",
    "def get_sentiment(text): \n",
    "    # Create a TextBlob object from the text blob = TextBlob(text) \n",
    "    # # Return the polarity and subjectivity as a tuple return (blob.sentiment.polarity, blob.sentiment.subjectivity)\n",
    "    \n",
    "# Apply the function to each row of the dataframe and assign the results to two new columns\n",
    "df[['polarity', 'subjectivity']] = df['content'].apply(get_sentiment).apply(pd.Series)\n",
    "\n",
    "# Plot the polarity and subjectivity of each article as a scatter plot\n",
    "plt.figure(figsize=(10, 6)) \n",
    "sns.scatterplot(x='polarity', y='subjectivity', data=df) \n",
    "plt.xlabel('Polarity') \n",
    "plt.ylabel('Subjectivity') \n",
    "plt.title('Sentiment Analysis of Articles') "
   ]
  }
 ],
 "metadata": {
  "language_info": {
   "name": "python"
  },
  "orig_nbformat": 4
 },
 "nbformat": 4,
 "nbformat_minor": 2
}
